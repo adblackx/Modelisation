{
 "cells": [
  {
   "cell_type": "markdown",
   "metadata": {},
   "source": [
    "# Equation de transport - méthode des caractéristiques\n",
    "\n",
    "Dans ce sujet de TP, nous souhaitons résoudre les équations aux dérivées partielles de la forme \n",
    "$$\n",
    " \\left\\lbrace\n",
    " \\begin{aligned}\n",
    " &\\frac{\\partial u}{\\partial t}(t, x)\n",
    " +\n",
    " c(t,x) \\frac{\\partial u}{\\partial x}(t, x) = 0,&&t>0, x\\in\\mathbb{R},\\\\\n",
    " &u(0, x) = u_0(x), &&x\\in\\mathbb{R},\n",
    " \\end{aligned}\n",
    " \\right.\n",
    "$$\n",
    "où $c:\\mathbb{R}^+{\\times}\\mathbb{R}\\to\\mathbb{R}$ est une fonction régulière (lipschitzienne par exemple).\n",
    "Nous utilisons pour cela la méthode des caractéristiques. La courbe caractéristique passant par le point $(t_0,x_0)\\in\\mathbb{R}^+{\\times}\\mathbb{R}$ est définie comme la courbe paramétrée $(t, X_{t_0,x_0}(t))$ donnée par l'unique solution maximale du problème de Cauchy\n",
    "$$\n",
    " \\left\\lbrace\n",
    " \\begin{aligned}\n",
    " &X_{t_0,x_0}'(t) = c(t, X_{t_0,x_0}(t)),&&t\\in I_{t_0,x_0}, \\\\\n",
    " &X_{t_0,x_0}(t_0) = x_0,\n",
    " \\end{aligned}\n",
    " \\right.\n",
    "$$\n",
    "où $I_{t_0,x_0}$ est l'ouvert de définition de la solution maximale qui contient le point $t_0$.\n",
    "\n",
    "Cette solution maximale est définie autour de $t_0$. Par ailleurs, un calcul rapide montre que si la fonction $u(t,x)$ est solution de l'EDP alors la fonction $t\\mapsto u(t,X_{t_0,x_0}(t))$ est constante, c'est-à-dire que $u$ est constante le long des courbes caractéristiques. Cette remarque permet de déterminer une méthode de résolution de l'EDP : étant donné un point $(t_0,x_0)$, on calcule la solution en ce point en résolvant l'équation différentielle. Si cette solution $X_{t_0,x_0}$ est définie en $t=0$, nous obtenons alors directement\n",
    "$$u(t_0,x_0) = u_0(X_{t_0,x_0}(0)).$$\n",
    "Malheureusement, cela n'est pas toujours le cas, mais nous verrons cela en cours...\n",
    "\n",
    "\n",
    "Dans cette feuille d'exercices, nous choisissons pour les deux premiers exercices\n",
    "$$c(t,x) = -\\frac{x}{1+t^2}.$$"
   ]
  },
  {
   "cell_type": "code",
   "execution_count": null,
   "metadata": {},
   "outputs": [],
   "source": [
    "import numpy as np\n",
    "import matplotlib.pyplot as plt\n",
    "from solveur_edo import *\n",
    "%matplotlib inline\n",
    "%config InlineBackend.figure_format = 'retina'"
   ]
  },
  {
   "cell_type": "markdown",
   "metadata": {},
   "source": [
    "#### Exercice 1 - Visualisation des caractéristiques\n",
    "\n",
    "Dans cet exercice, nous traçons différentes caractéristiques dans le plan $(t,x)$ qui est le plan classique de représentation pour les équations de transport.\n",
    "\n",
    "> 1. Définissez une fonction `c(t,x)` qui retourne la valeur de la vitesse $c(t,x)$.\n",
    "> 2. Tracez dans une fenêtre graphique les différentes caractéristiques qui passent par les points $(t_0,x_0)$ pour $t_0=1$ et \n",
    "$$\n",
    "x_0\\in \\{ -2, -1.98, -1.96, \\ldots, 1.96, 1.98, 2\\}.\n",
    "$$\n",
    "\n",
    "*Indication : Afin d'intégrer la caractéristique, vous pourrez utiliser le schéma d'Euler explicite. Vous prendrez comme intervalle de calcul $[1,0]$ en prenant soin d'avoir un pas de temps négatif afin de remontrer la caractéristique jusqu'en $t=0$."
   ]
  },
  {
   "cell_type": "markdown",
   "metadata": {},
   "source": [
    "#### Exercice 2 - Résolution de l'EDP\n",
    "\n",
    "L'objectif de cet exercice est de tracer la solution de l'EDP à $t=1$ pour différentes conditions initiales.\n",
    "\n",
    "> * Programmez une fonction `u0(x, xmin, xmax)` qui retourne la donnée initiale $u_0$ évaluée au point $x$ (attention, $x$ doit pouvoir être un `numpy array`) en prenant\n",
    "\\begin{equation*}\n",
    "u_0(x) = \\left\\lbrace\n",
    "\\begin{aligned}\n",
    " &0 & \\text{ si } & x<x_{\\text{min}},\\\\\n",
    " &4\\frac{(x_{\\text{max}}-x)(x-x_{\\text{min}})}{(x_{\\text{max}}-x_{\\text{min}})^2} & \\text{ si } & x_{\\text{min}}\\leq x \\leq x_{\\text{max}},\\\\\n",
    " &0 & \\text{ si } & x_{\\text{max}}<x.\n",
    "\\end{aligned}\n",
    "\\right.\n",
    "\\end{equation*}\n",
    "> * Tracez la solution sur l'intervalle $[-2,2]$ à $t=1$. Pour cela, vous devrez mailler l'intervalle $[-2,2]$ à l'aide d'un `linspace` puis, pour chaque valeur de $x$ calculez le pied $\\xi$ de la caractéristique à $t=0$ qui passe par le point $(t=1,x)$, c'est-à-dire \n",
    "$$\\xi = X_{t,x}(0).$$\n",
    "La valeur recherchée sera alors $u(t,x) = u_0(\\xi)$."
   ]
  },
  {
   "cell_type": "code",
   "execution_count": null,
   "metadata": {},
   "outputs": [],
   "source": []
  },
  {
   "cell_type": "code",
   "execution_count": null,
   "metadata": {},
   "outputs": [],
   "source": []
  },
  {
   "cell_type": "markdown",
   "metadata": {},
   "source": [
    "#### Exercice 3 - Un cas un peu problématique\n",
    "\n",
    "Dans cet exercice, nous choisissons une vitesse un tout petit peu différente. Nous prenons \n",
    "$$c(t,x) = -\\frac{x^3}{1+t^2}$$\n",
    "et nous allons voir que cela modifie fortement la résolution de l'EDP.\n",
    "\n",
    "Les courbes caractéristiques sont définies par\n",
    "$$ \\frac{dX}{ds}(s;t,x) = c(s, X(s; t, x), \\qquad X(t; t,x)=x.$$\n",
    "Nous pouvons formellement récrire le problème sous la forme\n",
    "$$ dX(s; t, x) = c(s, X(s; t, x)) ds.$$\n",
    "\n",
    "Nous pouvons donc récrire les caractéristiques en choisissant une paramétrisation par l'abscisse curviligne, c'est-à-dire que vous résoudrez les systèmes d'équations différentielles suivants\n",
    "$$\n",
    "\\left\\lbrace\n",
    "\\begin{aligned}\n",
    " t'(\\xi) &= \\frac{1}{\\sqrt{1+c(t(\\xi), x(\\xi))^2}},&&\\xi\\in\\mathbb{R},\\\\\n",
    " x'(\\xi) &= \\frac{c(t(\\xi), x(\\xi))}{\\sqrt{1+c(t(\\xi), x(\\xi))^2}},\n",
    " &&\\xi\\in\\mathbb{R},\\\\\n",
    " x(0) &= x_0,\\\\\n",
    " t(0) &= t_0,\n",
    "\\end{aligned}\n",
    "\\right.\n",
    "$$\n",
    "par la méthode numérique approchée que vous désirez.\n",
    "\n",
    "> * tracez de nombreuses caractéristiques afin de visualiser correctement leur comportement sur le domaine $(x, t)\\in[-4, 4]\\times[0, 2]$. Vous pourrez par exemple prendre un maillage en $x$ de l'intervalle $[-4, 4]$ à $t=2$ et remonter les caractéristiques suffisamment.\n",
    "> * Pensez-vous que toutes les caractéristiques atteignent le temps $t=0$ ? Si vous pensez non, qu'est-ce que cela signifie pour la résolution de l'EDP ?\n",
    "> * Montrez que la solution de l'EDP est bien définie en un point de coordonnées $(x, t)$ si \n",
    "$$ \\vert x \\vert < \\frac{1}{\\sqrt{2\\arctan(t)}}.$$ "
   ]
  },
  {
   "cell_type": "code",
   "execution_count": null,
   "metadata": {},
   "outputs": [],
   "source": []
  },
  {
   "cell_type": "code",
   "execution_count": null,
   "metadata": {
    "scrolled": false
   },
   "outputs": [],
   "source": []
  },
  {
   "cell_type": "code",
   "execution_count": null,
   "metadata": {},
   "outputs": [],
   "source": []
  }
 ],
 "metadata": {
  "kernelspec": {
   "display_name": "Python 3",
   "language": "python",
   "name": "python3"
  },
  "language_info": {
   "codemirror_mode": {
    "name": "ipython",
    "version": 3
   },
   "file_extension": ".py",
   "mimetype": "text/x-python",
   "name": "python",
   "nbconvert_exporter": "python",
   "pygments_lexer": "ipython3",
   "version": "3.7.3"
  }
 },
 "nbformat": 4,
 "nbformat_minor": 4
}
