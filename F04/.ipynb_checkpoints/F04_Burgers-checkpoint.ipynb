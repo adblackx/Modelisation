{
 "cells": [
  {
   "cell_type": "markdown",
   "metadata": {},
   "source": [
    "# Schéma de Lax-Friedrichs pour l'équation de Burgers\n",
    "\n",
    "Nous considérons le problème posé sur un domaine périodique\n",
    "$$\n",
    "\\left\\lbrace\\begin{aligned}\n",
    "&\\partial_t u + \\partial_x \\tfrac{1}{2}u^2 = 0, && t>0, 0\\leq x\\leq 1,\\\\\n",
    "&u(0, x) = u^0(x), && 0\\leq x\\leq 1,\\\\\n",
    "&u(t, 0) = u(t, 1), && t\\geq 0.\n",
    "\\end{aligned}\\right.\n",
    "$$"
   ]
  },
  {
   "cell_type": "code",
   "execution_count": null,
   "metadata": {},
   "outputs": [],
   "source": [
    "import numpy as np\n",
    "import matplotlib.pyplot as plt\n",
    "\n",
    "%matplotlib inline\n",
    "%config InlineBackend.figure_format = 'retina'"
   ]
  },
  {
   "cell_type": "markdown",
   "metadata": {},
   "source": [
    "## Le maillage\n",
    "\n",
    "Le maillage en espace est constitué de $N$ points équi-répartis entre 0 et 1. Nous noterons\n",
    "$$ x_j = h(j+1/2), \\qquad 0\\leq j< N,$$\n",
    "avec $h=1/N$.\n",
    "\n",
    "**Question**\n",
    "\n",
    "> * Proposez une fonction `mesh` qui prend en argument un entier $N$ et qui retourne un `double` $h$ pour le pas du maillage et un `ndarray` de taille $N$ contenant les valeurs $x_j$ pour $0\\leq j<N$.\n",
    "> * Représentez le maillage obtenu avec $N=10$ en utilisant la commande `scatter`."
   ]
  },
  {
   "cell_type": "code",
   "execution_count": null,
   "metadata": {},
   "outputs": [],
   "source": []
  },
  {
   "cell_type": "code",
   "execution_count": null,
   "metadata": {},
   "outputs": [],
   "source": []
  },
  {
   "cell_type": "markdown",
   "metadata": {},
   "source": [
    "## La donnée initiale\n",
    "\n",
    "Pour fonction initiale $u^0$, nous souhaitons pouvoir tester le schéma avec différentes régularités (une fonction discontinue, continue, dérivable, $\\ldots$).\n",
    "\n",
    "**Question**\n",
    "\n",
    "> * Proposez une fonction `init` qui prend en argument un `ndarray` $x$ et un `integer` $k$ et qui retourne un `ndarray` $y$ tel que $y_i=\\phi^k(x_i)$ où $\\phi^k$ est définie par\n",
    "$$\n",
    "\\phi^k (x) = \\boldsymbol{1}_{[x_l,x_r]}(x) P^{k+1}(x),\n",
    "\\quad\n",
    "P(x) = \\frac{4}{(x_r-x_l)^2} (x-x_l)(x_r-x),\n",
    "$$\n",
    "avec $x_l=1/4$ et $x_r=1/2$.\n",
    "> * Tracez dans un même graphique les différentes données initiales pour $k\\in\\lbrace -1, 0, 1, 2\\rbrace$."
   ]
  },
  {
   "cell_type": "code",
   "execution_count": null,
   "metadata": {},
   "outputs": [],
   "source": []
  },
  {
   "cell_type": "code",
   "execution_count": null,
   "metadata": {},
   "outputs": [],
   "source": []
  },
  {
   "cell_type": "markdown",
   "metadata": {},
   "source": [
    "## Le schéma de Lax-Friedrichs\n",
    "\n",
    "Nous allons à présent implémenter le schéma de Lax-Fridrichs défini par\n",
    "$$\n",
    "v_j^{n+1} = \\frac{1}{2} (1+\\beta_j^n) v_{j-1}^n + \\frac{1}{2} (1-\\beta_j^n) v_{j+1}^n,\n",
    "$$\n",
    "avec $\\beta_j^n=.5(v_{j-1}^n+v_{j+1}^n) k/h$, où $k$ est le pas de temps et $h$ le pas d'espace.\n",
    "\n",
    "**Question**\n",
    "\n",
    "> * Proposez une fonction `lax_friedrichs` qui prend en argument un `ndarray` $v$, deux `double` $k$ et $h$ et qui retourne un `ndarray` $w$ calculé après un pas de temps du schéma de Lax-Friedrichs. Vous n'oublierez pas de traiter les termes de bord grâce à la condition de périodicité.\n",
    "> * Testez le schéma proposé en traçant la solution approchée aux instants $t\\in\\lbrace 0, 0.1, 0.2, \\ldots 1\\rbrace$. Vous choisirez pour cela convenablement le paramètre $k$ en fonction de $h$. Faites varier la valeur de $k/h$ afin de mesurer l'impact de la condition CFL."
   ]
  },
  {
   "cell_type": "code",
   "execution_count": null,
   "metadata": {},
   "outputs": [],
   "source": []
  },
  {
   "cell_type": "code",
   "execution_count": null,
   "metadata": {},
   "outputs": [],
   "source": []
  },
  {
   "cell_type": "code",
   "execution_count": null,
   "metadata": {},
   "outputs": [],
   "source": []
  }
 ],
 "metadata": {
  "kernelspec": {
   "display_name": "Python 3",
   "language": "python",
   "name": "python3"
  },
  "language_info": {
   "codemirror_mode": {
    "name": "ipython",
    "version": 3
   },
   "file_extension": ".py",
   "mimetype": "text/x-python",
   "name": "python",
   "nbconvert_exporter": "python",
   "pygments_lexer": "ipython3",
   "version": "3.7.3"
  }
 },
 "nbformat": 4,
 "nbformat_minor": 4
}
