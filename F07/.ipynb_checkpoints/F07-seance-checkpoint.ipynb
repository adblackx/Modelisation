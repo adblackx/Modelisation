{
 "cells": [
  {
   "cell_type": "markdown",
   "metadata": {},
   "source": [
    "# Un schéma pour les équations de transport diffusion réaction\n",
    "\n",
    "On notera\n",
    "* $c(x,t)$ la concentration d'anticorps dans le plasma (nombre d'anticorps par unité de volume) ;\n",
    "* $s(t, x)$ la concentration d'antigènes (nombre d'antigènes par unité de volume).\n",
    "\n",
    "On se donne des constantes $\\omega\\in]0, 1[$, $u>0$, $\\nu\\geq0$, $\\alpha>0$, $s_0>0$, une fonction $c_d$ régulière et positive et $p\\in\\mathbb{N}^*$.\n",
    "On cherche alors les fonctions $c$ et $s$ d'anticorps et d'antigènes définies sur $[0, L]{\\times}[0,T]$ qui satisfont le système d'équations aux dérivées partielles\n",
    "$$\n",
    "\\left\\lbrace\\begin{aligned}\n",
    "&\\omega \\partial_t c + u\\partial_x c - \\nu \\partial_{xx}c = -\\alpha cs, & \\text{dans } [0, L]\\times[0, T],\\\\\n",
    "&\\partial_t s = -p\\alpha cs, & \\text{dans } [0, L]\\times[0, T],\n",
    "\\end{aligned}\\right.\n",
    "$$\n",
    "complété par les conditions aux limites et les conditions initiales\n",
    "$$\n",
    "\\left\\lbrace\\begin{aligned}\n",
    "c(0, t) &= c_d(t) & \\text{pour } t\\in[0, T],\\\\\n",
    "c(L, t) &= 0 & \\text{pour } t\\in[0, T],\n",
    "\\end{aligned}\\right.\n",
    "\\qquad\\qquad\n",
    "\\left\\lbrace\\begin{aligned}\n",
    "    c(x, 0) &= 0 & \\text{pour } x\\in[0, L],\\\\\n",
    "    s(x, 0) &= s_0 & \\text{pour } x\\in[0, L],\n",
    "\\end{aligned}\\right.\n",
    "$$"
   ]
  },
  {
   "cell_type": "code",
   "execution_count": 3,
   "metadata": {},
   "outputs": [],
   "source": [
    "import numpy as np\n",
    "import matplotlib.pyplot as plt\n",
    "\n",
    "%matplotlib inline\n",
    "%config InlineBackend.figure_format = 'retina'"
   ]
  },
  {
   "cell_type": "markdown",
   "metadata": {},
   "source": [
    "## Notations\n",
    "\n",
    "On se donne deux entiers strictement positifs $M$ et $N$ et on pose $h=L/M$ (appelé *pas d'espace*) et $k=T/N$ (appelé *pas de temps*). On définit alors $x_j=jh$, $0\\leq j\\leq M$ les points du maillage en espace et $t^n=nk$, $0\\leq n\\leq N$ les instants de discrétisation en temps. \n",
    "\n",
    "On note $c_j^n$ une approximation de $c(x_j,t^n)$ et $s_j^n$ une approximation de $s(x_j,t^n)$. On propose alors le schéma\n",
    "$$\n",
    "\\left\\lbrace\\begin{aligned}\n",
    "&c_j^{n+1} = c_j^n - \\frac{uk}{\\omega h} (c_j^n - c_{j-1}^n) + \\frac{\\nu k}{\\omega h^2} (c_{j-1}^n - 2c_j^n + c_{j+1}^n) - \\frac{\\alpha k}{\\omega} c_j^n s_j^n,& 1\\leq j\\leq M-1, \\ 0\\leq n\\leq N-1,\\\\\n",
    "&s_j^{n+1} = s_j^n - \\alpha kp c_j^n s_j^n,& 1\\leq j\\leq M-1, \\ 0\\leq n\\leq N-1,\n",
    "\\end{aligned}\\right.\n",
    "$$\n",
    "auquel on ajoute la donnée initiale $c_j^0=0$, $s_j^0=s_0$, $0\\leq j\\leq M$, et la condition de bord $c_0^n=c_d(t^n)$, $0\\leq n\\leq N$.\n"
   ]
  },
  {
   "cell_type": "markdown",
   "metadata": {},
   "source": [
    "Pour alléger les notations, nous allons définir quelques coefficients :\n",
    "$$\n",
    "a0 = -\\frac{uk}{\\omega h}, \\quad a1 = \\frac{\\nu k}{\\omega h^2}, \\quad a2 = -\\frac{\\alpha k}{\\omega}, \\quad b2 = -\\alpha k p.\n",
    "$$\n",
    "\n",
    "**Question**\n",
    "\n",
    "> Proposez une fonction `one_time_step` qui prend en argument deux `ndarray` qui seront les vecteurs $c^n$ et $s^n$, les 4 paramètres `a0`, `a1`, `a2` et `b2` et un scalaire `cd` représentant la valeur à la limite $c_d(t^{n+1})$ et qui modifie les vecteurs $c$ et $s$ pour les transformer en $c^{n+1}$ et $s^{n+1}$. **Attention** au terme source..."
   ]
  },
  {
   "cell_type": "code",
   "execution_count": 1,
   "metadata": {},
   "outputs": [],
   "source": [
    "def one_time_step(c, s, a0, a1, a2, b2, cd):\n",
    "    \"\"\"un pas de temps du schéma\"\"\"\n",
    "    cl, cm, cr = c[:-2], c[1:-1], c[2:]\n",
    "    sm = s[1:-1]\n",
    "    r = cm * sm\n",
    "    s += b2 * c*s\n",
    "    cm += a0*(cm-cl) + a1*(cl-2*cm+cr) + a2*r\n",
    "    c[0] = cd"
   ]
  },
  {
   "cell_type": "markdown",
   "metadata": {},
   "source": [
    "**Question**\n",
    "\n",
    "> Proposez une fonction `run` qui prend en argument un dictionnaire contenant tous les paramètres nécessaires à la simulation et qui trace les vecteurs solutions à différents instants. Vous pourrez par exemple superposer une dizaine de courbes sur une même figure."
   ]
  },
  {
   "cell_type": "code",
   "execution_count": null,
   "metadata": {
    "scrolled": false
   },
   "outputs": [],
   "source": [
    "def run(p):\n",
    "    \"\"\"calcule et trace la solution\"\"\"\n",
    "    t, k = np.linspace(0, p['T'], p['N'], retstep=True)\n",
    "    x, h = np.linspace(0, p['L'], p['M'], retstep=True)\n",
    "    a0 = - p['u']*k/(p['omega']*h)\n",
    "    a1 = p['nu']*k/(p['omega']*h*h)\n",
    "    a2 = -p['alpha']*k/p['omega']\n",
    "    b2 = -p['alpha']*k*p['p']\n",
    "    c = np.zeros((p['M'], ))\n",
    "    s = p['so'] + np.zeros((p['M'], ))\n",
    "    for n in range(p['N']):\n",
    "        one_time_step(c, s, a0, a1, a2, b2, p['cd'](t[n]))"
   ]
  },
  {
   "cell_type": "markdown",
   "metadata": {},
   "source": [
    "**Question**\n",
    "\n",
    "> Testez votre fonction avec les paramètres suivants :\n",
    "$L=4$, $T=20$, $M=201$, $N=2001$, $\\omega=0.9$, $u=0.4$, $\\nu=0.01$, $s_0=10$, $p=5$, $\\alpha=1$ et $c_d:t\\mapsto te^{-t/2}$.\n",
    "\n",
    "Vous devrez obtenir une figure ressemblant à celle-ci :\n",
    "![Fig1](fig_1.png)"
   ]
  },
  {
   "cell_type": "code",
   "execution_count": 6,
   "metadata": {},
   "outputs": [],
   "source": [
    "p = {\n",
    "    'L': 4, 'T': 20, 'M': 201, 'N': 2001,\n",
    "    'omega': 0.9, 'u': 0.4, 'nu': 0.01,\n",
    "    'so': 10, 'p': 5, 'alpha': 1,\n",
    "    'cd': lambda t: t*np.exp(-.5*t)\n",
    "}"
   ]
  },
  {
   "cell_type": "code",
   "execution_count": 5,
   "metadata": {},
   "outputs": [
    {
     "name": "stdout",
     "output_type": "stream",
     "text": [
      "[ 0 -9 -8 -7  4]\n",
      "(5,) (3,)\n"
     ]
    }
   ],
   "source": [
    "x = np.array([0, 1, 2, 3, 4])\n",
    "xm = x[1:-1]\n",
    "xm -= 10\n",
    "print(x)\n",
    "print(x.shape, xm.shape)"
   ]
  },
  {
   "cell_type": "markdown",
   "metadata": {},
   "source": [
    "**Question**\n",
    "\n",
    "> A partir du jeu de paramètres précédents, faites varier le paramètre $\\alpha$ et commentez les courbes que vous obtenez."
   ]
  },
  {
   "cell_type": "code",
   "execution_count": null,
   "metadata": {},
   "outputs": [],
   "source": []
  },
  {
   "cell_type": "markdown",
   "metadata": {},
   "source": [
    "*Réponse*\n",
    "\n"
   ]
  },
  {
   "cell_type": "markdown",
   "metadata": {},
   "source": [
    "**Question**\n",
    "\n",
    "> A partir du jeu de paramètres précédents, faites varier le paramètre $p$ et commentez les courbes que vous obtenez. Vous pourrez prendre $\\alpha=0.5$."
   ]
  },
  {
   "cell_type": "code",
   "execution_count": null,
   "metadata": {},
   "outputs": [],
   "source": []
  },
  {
   "cell_type": "code",
   "execution_count": null,
   "metadata": {},
   "outputs": [],
   "source": []
  },
  {
   "cell_type": "markdown",
   "metadata": {},
   "source": [
    "*Réponse*\n",
    "\n"
   ]
  },
  {
   "cell_type": "code",
   "execution_count": null,
   "metadata": {},
   "outputs": [],
   "source": []
  },
  {
   "cell_type": "markdown",
   "metadata": {},
   "source": [
    "## Un schéma implicite pour traiter les grandes valeurs de $\\alpha$.\n",
    "\n",
    "**Question**\n",
    "\n",
    "> Implémentez le schéma proposé dans le cours. Pour résoudre l'équation non linéaire, vous pourrez programmer une méthode de Newton."
   ]
  },
  {
   "cell_type": "code",
   "execution_count": null,
   "metadata": {},
   "outputs": [],
   "source": []
  }
 ],
 "metadata": {
  "kernelspec": {
   "display_name": "Python 3",
   "language": "python",
   "name": "python3"
  },
  "language_info": {
   "codemirror_mode": {
    "name": "ipython",
    "version": 3
   },
   "file_extension": ".py",
   "mimetype": "text/x-python",
   "name": "python",
   "nbconvert_exporter": "python",
   "pygments_lexer": "ipython3",
   "version": "3.7.3"
  }
 },
 "nbformat": 4,
 "nbformat_minor": 4
}
