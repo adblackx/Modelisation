{
 "cells": [
  {
   "cell_type": "markdown",
   "metadata": {},
   "source": [
    "# Chute libre"
   ]
  },
  {
   "cell_type": "markdown",
   "metadata": {},
   "source": [
    "Dans ce notebook, nous calculons la solution approchée du problème de la chute libre par la méthode d'Euler explicite et nous étudions sa qualité."
   ]
  },
  {
   "cell_type": "code",
   "execution_count": 1,
   "metadata": {},
   "outputs": [
    {
     "name": "stderr",
     "output_type": "stream",
     "text": [
      "Matplotlib is building the font cache using fc-list. This may take a moment.\n"
     ]
    }
   ],
   "source": [
    "import numpy as np\n",
    "import matplotlib.pyplot as plt\n",
    "%matplotlib inline\n",
    "%config InlineBackend.figure_format = 'retina'\n",
    "\n",
    "g = 9.80665  # constante gravitationnelle sur Terre\n",
    "h0 = 4.      # hauteur initiale\n",
    "T = 1.       # temps final pour la simulation"
   ]
  },
  {
   "cell_type": "markdown",
   "metadata": {},
   "source": [
    "## Calcul et tracé des solutions exactes et approchées"
   ]
  },
  {
   "cell_type": "markdown",
   "metadata": {},
   "source": [
    "#### Question\n",
    "\n",
    "> * Complétez la fonction `solution_exacte` qui prend en argument deux doubles `h0` et `t` et qui retourne la solution exacte à l'instant `t` lorsque la donnée initiale vaut `h0`.\n",
    "* Modifiez cette fonction (ou pas si elle répond déjà à la question !) afin que la variable `t` puisse être à la fois un double et un ndarray. Dans le cas où `t` est un ndarray, la fonction devra retourner un ndarray correspondant à toutes les valeurs de la solution à chaque instant.\n",
    "* Modifiez encore la fonction pour empécher la solution d'être négative (ce qui correspondrait à continuer à tomber après avoir touché le sol). Vous pourrez utiliser la fonction `np.maximum`.\n",
    "\n",
    "*Remarquez la présence de la description de la fonction juste en dessous de sa déclaration à l'aide des \"\"\". C'est une excellente habitude que vous devrez scrupuleusement respecter dans tous vos codes python.* "
   ]
  },
  {
   "cell_type": "code",
   "execution_count": 42,
   "metadata": {},
   "outputs": [],
   "source": [
    "def solution_exacte(h0, t):\n",
    "    \"\"\"\n",
    "    solution exacte de la chute libre\n",
    "\n",
    "    Parameters\n",
    "    ----------\n",
    "\n",
    "    h0: double\n",
    "        hauteur initiale\n",
    "    t: double ou ndarray\n",
    "        instants où la solution doit être retournée\n",
    "\n",
    "    Returns\n",
    "    -------\n",
    "\n",
    "    double ou ndarray\n",
    "    \"\"\"\n",
    "    print(type(t))\n",
    "    \n",
    "    \n",
    "    return np.maximum(h0 - 0.5 * g * t**2,0)"
   ]
  },
  {
   "cell_type": "code",
   "execution_count": 43,
   "metadata": {},
   "outputs": [
    {
     "name": "stdout",
     "output_type": "stream",
     "text": [
      "Help on function solution_exacte in module __main__:\n",
      "\n",
      "solution_exacte(h0, t)\n",
      "    solution exacte de la chute libre\n",
      "    \n",
      "    Parameters\n",
      "    ----------\n",
      "    \n",
      "    h0: double\n",
      "        hauteur initiale\n",
      "    t: double ou ndarray\n",
      "        instants où la solution doit être retournée\n",
      "    \n",
      "    Returns\n",
      "    -------\n",
      "    \n",
      "    double ou ndarray\n",
      "\n"
     ]
    }
   ],
   "source": [
    "help(solution_exacte)"
   ]
  },
  {
   "cell_type": "markdown",
   "metadata": {},
   "source": [
    "#### Question\n",
    "\n",
    "> Vérifiez que la solution exacte lorsque $h_0=4$ vaut bien 2.7741687500000003 à $t=0.5$ et 0 à $t=1$.\n",
    "\n",
    "*Remarquez l'utilisation des fstring comme argument de la fonction `print`. Cette nouveauté est bien pratique pour afficher des valeurs de variables dans un calcul.*"
   ]
  },
  {
   "cell_type": "code",
   "execution_count": 44,
   "metadata": {},
   "outputs": [
    {
     "name": "stdout",
     "output_type": "stream",
     "text": [
      "<class 'int'>\n",
      "h(0.0) = 4.0000000000000000\n",
      "<class 'float'>\n",
      "h(0.5) = 2.7741687500000003\n",
      "<class 'int'>\n",
      "h(1.0) = 0.0000000000000000\n"
     ]
    }
   ],
   "source": [
    "for t in [0, 0.5, 1]:\n",
    "    print(f'h({t:3.1f}) = {solution_exacte(h0, t):18.16f}')"
   ]
  },
  {
   "cell_type": "markdown",
   "metadata": {},
   "source": [
    "#### Question\n",
    "\n",
    "> * Complétez la fonction `solution_ee` qui prend trois doubles en argument `h0`, `t` et `dt` et qui retourne un double pour la valeur de la solution approchée par la méthode d'Euler explicite à l'instant `t`. Vous construirez pour cela les trois suites $(t_k)$, $(v_k)$ et $(w_k)$ par les formules suivantes :\n",
    "  * $t_0=0$, $v_0=h_0$ et $w_0=0$,\n",
    "  * pour $k\\geq0$, on pose $s=\\min(dt, t-t_k)$ puis\n",
    "    $$ \\left\\lbrace \\begin{aligned}\n",
    "    t_{k+1} &= t_k + s,\\\\\n",
    "    v_{k+1} &= v_k + w_k\\, s,\\\\\n",
    "    w_{k+1} &= w_k - g \\,s.\n",
    "    \\end{aligned}\\right.$$\n",
    "* Modifiez votre fonction afin qu'elle accepte que la variable `t` soit un ndarray et qui retourne la solution approchée pour toutes les valeurs du vecteur `t`. Vous pourrez supposer (ou imposer) que `t` soit un objet de dimension 1, que les valeurs de `t` soient rangées dans l'ordre croissant. Puis vous pourrez laisser à l'utilisateur plus de liberté..."
   ]
  },
  {
   "cell_type": "code",
   "execution_count": 118,
   "metadata": {},
   "outputs": [],
   "source": [
    "def solution_ee(h0, t, dt):\n",
    "    \"\"\"\n",
    "    solution approchée de la chute libre\n",
    "    par la méthode d'Euler explicite\n",
    "\n",
    "    Parameters\n",
    "    ----------\n",
    "\n",
    "    h0: double\n",
    "        hauteur initiale\n",
    "    t: double ou ndarray\n",
    "        instants où la solution doit être retournée\n",
    "    dt: double\n",
    "        pas de temps pour la méthode numérique\n",
    "\n",
    "    Returns\n",
    "    -------\n",
    "\n",
    "    double ou ndarray\n",
    "    \"\"\"\n",
    "    t0 = 0\n",
    "    v0 = h0\n",
    "    w0 = 0\n",
    "    tk = 0\n",
    "    vk = 0\n",
    "    \n",
    "    if np.isscalar(t):\n",
    "        vt = np.array([t])\n",
    "    else:\n",
    "        vt = t.copy() # vecteur est un tab 1d et matrice un tab >1d\n",
    "    \n",
    "    shape = vt.shape\n",
    "    vt = vt.reshape((vt.size, ))\n",
    "    vv = np.zeros((vt.size,))\n",
    "    indices = np.argsort(vt)\n",
    "    i = indices[0]\n",
    "    \n",
    "    #for i in np.arange(0,t,dt): # while tk < t sans utiliser de bouvle\n",
    "    \n",
    "    for i in range(vt.size):\n",
    "        tt = vt[indices[i]]\n",
    "        \n",
    "        while tk< tt :\n",
    "            s = min(dt, tt-tk)\n",
    "            tk+= s\n",
    "            #t0 = t0 + s\n",
    "            v0 = v0 + w0*s\n",
    "            w0 = w0 - g * s\n",
    "        vv[indices[i]] == vk\n",
    "    print(vv)\n",
    "    return np.maximum(vv,0) "
   ]
  },
  {
   "cell_type": "markdown",
   "metadata": {},
   "source": [
    "#### Question\n",
    "\n",
    "> Vérifiez à l'aide de la cellule suivante que le résultat de votre fonction est correct. Vous devez trouver\n",
    "```\n",
    "h(0.0) = 4.0000000000000000 ~ 4.0000000000000000\n",
    "h(0.5) = 2.7741687500000003 ~ 2.7986853750000011\n",
    "h(1.0) = 0.0000000000000000 ~ 0.0000000000000000\n",
    "```\n",
    "aux erreurs d'arrondi près..."
   ]
  },
  {
   "cell_type": "code",
   "execution_count": 119,
   "metadata": {},
   "outputs": [
    {
     "name": "stdout",
     "output_type": "stream",
     "text": [
      "<class 'int'>\n",
      "[0.]\n",
      "h(0.0) = 4.0000000000000000 ~ 0.0000000000000000\n",
      "<class 'float'>\n",
      "[0.]\n",
      "h(0.5) = 2.7741687500000003 ~ 0.0000000000000000\n",
      "<class 'int'>\n",
      "[0.]\n",
      "h(1.0) = 0.0000000000000000 ~ 0.0000000000000000\n"
     ]
    }
   ],
   "source": [
    "dt = 1.e-2\n",
    "for t in [0, 0.5, 1]:\n",
    "    print(f'h({t:3.1f}) = {solution_exacte(h0, t):18.16f} ~ {solution_ee(h0, t, dt):18.16f}')"
   ]
  },
  {
   "cell_type": "code",
   "execution_count": 120,
   "metadata": {},
   "outputs": [
    {
     "name": "stdout",
     "output_type": "stream",
     "text": [
      "[0. 0. 0.]\n"
     ]
    },
    {
     "data": {
      "text/plain": [
       "0.0"
      ]
     },
     "execution_count": 120,
     "metadata": {},
     "output_type": "execute_result"
    }
   ],
   "source": [
    "solution_ee(h0, np.array([0,0.5,1]), dt)"
   ]
  },
  {
   "cell_type": "markdown",
   "metadata": {},
   "source": [
    "#### Question\n",
    "\n",
    "> Complétez la fonction `plot_position` qui prend en argument un double `dt` et qui trace la solution exacte ainsi que la solution approchée par la méthode d'Euler explicite de pas $\\Delta t= dt$ entre les instants $t=0$ et $t=T$.\n",
    "\n",
    "*Vous pourrez essayer d'obtenir une courbe qui ressemble à celle-ci en ajoutant un titre, des labels aux axes, une légende...*\n",
    "\n",
    "![Position du point matériel](chute_libre_position.pdf)"
   ]
  },
  {
   "cell_type": "code",
   "execution_count": 115,
   "metadata": {},
   "outputs": [],
   "source": [
    "def plot_position(dt):\n",
    "    \"\"\" trace la position en fonction du temps \"\"\"\n",
    "    vt_e = np.linspace(0, T, 1025)\n",
    "    vh_e = solution_exacte(h0, vt_e)\n",
    "\n",
    "    vt_a = np.linspace(0, T, 17)\n",
    "    vh_a = solution_ee(h0, vt_a, dt)\n",
    "\n",
    "    fig = plt.figure(figsize=(6, 6))\n",
    "    ax = fig.add_subplot(111)"
   ]
  },
  {
   "cell_type": "code",
   "execution_count": 116,
   "metadata": {},
   "outputs": [
    {
     "name": "stdout",
     "output_type": "stream",
     "text": [
      "<class 'numpy.ndarray'>\n"
     ]
    },
    {
     "data": {
      "image/png": "[encoded data removed]",
      "text/plain": [
       "<Figure size 432x432 with 1 Axes>"
      ]
     },
     "metadata": {
      "image/png": {
       "height": 360,
       "width": 380
      },
      "needs_background": "light"
     },
     "output_type": "display_data"
    }
   ],
   "source": [
    "plot_position(1.e-2)"
   ]
  },
  {
   "cell_type": "markdown",
   "metadata": {},
   "source": [
    "## Evaluation de l'erreur\n",
    "\n",
    "Dans cette partie, nous cherchons à évaluer l'erreur commise par le schéma d'Euler explicite lorsque le pas de temps $\\Delta t$ tend vers 0. Nous essayons en particulier de visualiser la propriété de convergence obtenue dans le TD."
   ]
  },
  {
   "cell_type": "markdown",
   "metadata": {},
   "source": [
    "#### Question\n",
    "\n",
    "> Complétez la fonction `plot_erreur` qui trace l'erreur en échelle logarithmique entre la solution exacte et la solution approchée pour différentes valeurs du pas de temps $\\Delta t$. Vous prendrez $\\Delta t=2^{-k}$ pour $k\\in\\lbrace 2, \\ldots, 9\\rbrace$ et vous calculerez l'erreur à l'instant $t=0.5$.\n",
    "\n",
    "*Vous pourrez essayer d'obtenir une courbe qui ressemble à celle-ci en ajoutant un titre, des labels aux axes, une légende...*\n",
    "\n",
    "![Position du point matériel](chute_libre_erreur.pdf)"
   ]
  },
  {
   "cell_type": "code",
   "execution_count": 22,
   "metadata": {},
   "outputs": [],
   "source": [
    "def plot_erreur():\n",
    "    \"\"\" trace l'erreur à l'instant t=0.5 en fonction du pas de temps \"\"\"\n",
    "    pass"
   ]
  },
  {
   "cell_type": "code",
   "execution_count": 23,
   "metadata": {},
   "outputs": [],
   "source": [
    "plot_erreur()"
   ]
  },
  {
   "cell_type": "markdown",
   "metadata": {},
   "source": [
    "## Estimation de la durée de la chute\n",
    "\n",
    "Nous allons à présent calculer numériquement le temps de chute et comparer avec le temps exact."
   ]
  },
  {
   "cell_type": "markdown",
   "metadata": {},
   "source": [
    "#### Question\n",
    "\n",
    "> * Complétez la fonction `impact_exact` qui prend en argument un double `h0` et qui retourne le temps $t_f$ pour lequel la solution exacte vaut $0$, c'est-à-dire qui calcule la durée de la chute. Ce temps est donné par la formule $$ t_f = \\sqrt\\frac{2h_0}{g}.$$\n",
    "* Modifiez (si c'est nécessaire) votre fonction afin que l'argument `h0` puisse être un double ou un ndarray."
   ]
  },
  {
   "cell_type": "code",
   "execution_count": 28,
   "metadata": {},
   "outputs": [],
   "source": [
    "def impact_exact(h0):\n",
    "    \"\"\"\n",
    "    instant de l'impact\n",
    "\n",
    "    Parameters\n",
    "    ----------\n",
    "\n",
    "    h0: double ou ndarray\n",
    "        hauteur initiale\n",
    "\n",
    "    Returns\n",
    "    -------\n",
    "\n",
    "    double ou ndarray\n",
    "    \"\"\"\n",
    "    return 0.*h0"
   ]
  },
  {
   "cell_type": "markdown",
   "metadata": {},
   "source": [
    "#### Question\n",
    "\n",
    "> Complétez la fonction `impact_ee` qui prend deux doubles en argument `h0` et `dt` et qui retourne l'estimation de la durée de chute donnée par la méthode d'Euler explicite. Vous utiliserez l'algorithme suivant :\n",
    "  * vous calculez les trois suites $(t_k)$, $(v_k)$ et $(w_k)$ par la méthode d'Euler explicite ;\n",
    "  * vous vous arrêtez au premier indice $k$ tel que $v_k<0$, cet indice sera noté $k$ ;\n",
    "  * vous retournerez\n",
    "  $$ t_f = \\frac{t_{k-1}v_k - t_kv_{k-1}}{v_k - v_{k-1}},$$\n",
    "  qui approche de manière linéaire la courbe de la solution numérique.\n",
    "  \n",
    "*Vous devrez faire attention à traiter de manière particulière le point correspondant à $h_0=0$. En effet, on s'attend à avoir dans ce cas $t_f=0$, ce qui n'est pas forcément le cas selon l'algorithme que vous allez écrire.*"
   ]
  },
  {
   "cell_type": "code",
   "execution_count": 29,
   "metadata": {},
   "outputs": [],
   "source": [
    "def impact_ee(h0, dt):\n",
    "    \"\"\"\n",
    "    instant de l'impact calculé numériquement\n",
    "    par la méthode d'Euler explicite\n",
    "\n",
    "    Parameters\n",
    "    ----------\n",
    "\n",
    "    h0: double ou ndarray\n",
    "        hauteur initiale\n",
    "    dt: double\n",
    "        pas de temps pour la méthode numérique\n",
    "\n",
    "    Returns\n",
    "    -------\n",
    "\n",
    "    double ou ndarray\n",
    "    \"\"\"\n",
    "    return 0.*h0"
   ]
  },
  {
   "cell_type": "markdown",
   "metadata": {},
   "source": [
    "#### Question\n",
    "\n",
    "> Excécutez les deux cellules suivantes qui trace la durée de la chute (exacte et approchée) ainsi que l'erreur numérique commise. Vous devez trouver une image comme celle-ci :\n",
    "\n",
    "![durée de la chute](chute_libre_duree.pdf)"
   ]
  },
  {
   "cell_type": "code",
   "execution_count": 121,
   "metadata": {},
   "outputs": [],
   "source": [
    "def plot_dureechute(dt):\n",
    "    \"\"\" trace la durée de la chute en fonction de la hauteur initiale \"\"\"\n",
    "    vh_e = np.linspace(0, 2, 1025)\n",
    "    vtf_e = impact_exact(vh_e)\n",
    "\n",
    "    vh_a = np.linspace(0, 2, 257)\n",
    "    vtf_a = np.array([\n",
    "        impact_ee(hk, dt) for hk in vh_a\n",
    "    ])\n",
    "\n",
    "    fig = plt.figure(figsize=(12, 6))\n",
    "    \n",
    "    ax1 = fig.add_subplot(121)\n",
    "    ax1.plot(vh_e, vtf_e, label='exact')\n",
    "    ax1.scatter(vh_a, vtf_a, label='euler explicit')\n",
    "    ax1.set_title('Durée de la chute')\n",
    "    ax1.set_xlabel(f'$h_0$')\n",
    "    ax1.set_ylabel(f'$t_f$')\n",
    "    ax1.legend()\n",
    "    \n",
    "    verr = abs(vtf_a - impact_exact(vh_a))\n",
    "    ax2 = fig.add_subplot(122)\n",
    "    ax2.scatter(vh_a, verr)\n",
    "    ax2.set_title('Erreur dans la durée de la chute')\n",
    "    ax2.set_xlabel(f'$h_0$')\n",
    "    ax2.set_ylabel(f'$e$')"
   ]
  },
  {
   "cell_type": "code",
   "execution_count": 122,
   "metadata": {},
   "outputs": [
    {
     "ename": "NameError",
     "evalue": "name 'impact_exact' is not defined",
     "output_type": "error",
     "traceback": [
      "\u001b[0;31m---------------------------------------------------------------------------\u001b[0m",
      "\u001b[0;31mNameError\u001b[0m                                 Traceback (most recent call last)",
      "\u001b[0;32m<ipython-input-122-9e24a75be70c>\u001b[0m in \u001b[0;36m<module>\u001b[0;34m\u001b[0m\n\u001b[0;32m----> 1\u001b[0;31m \u001b[0mplot_dureechute\u001b[0m\u001b[0;34m(\u001b[0m\u001b[0;36m1.e-1\u001b[0m\u001b[0;34m)\u001b[0m\u001b[0;34m\u001b[0m\u001b[0;34m\u001b[0m\u001b[0m\n\u001b[0m",
      "\u001b[0;32m<ipython-input-121-2a2f665226e1>\u001b[0m in \u001b[0;36mplot_dureechute\u001b[0;34m(dt)\u001b[0m\n\u001b[1;32m      2\u001b[0m     \u001b[0;34m\"\"\" trace la durée de la chute en fonction de la hauteur initiale \"\"\"\u001b[0m\u001b[0;34m\u001b[0m\u001b[0;34m\u001b[0m\u001b[0m\n\u001b[1;32m      3\u001b[0m     \u001b[0mvh_e\u001b[0m \u001b[0;34m=\u001b[0m \u001b[0mnp\u001b[0m\u001b[0;34m.\u001b[0m\u001b[0mlinspace\u001b[0m\u001b[0;34m(\u001b[0m\u001b[0;36m0\u001b[0m\u001b[0;34m,\u001b[0m \u001b[0;36m2\u001b[0m\u001b[0;34m,\u001b[0m \u001b[0;36m1025\u001b[0m\u001b[0;34m)\u001b[0m\u001b[0;34m\u001b[0m\u001b[0;34m\u001b[0m\u001b[0m\n\u001b[0;32m----> 4\u001b[0;31m     \u001b[0mvtf_e\u001b[0m \u001b[0;34m=\u001b[0m \u001b[0mimpact_exact\u001b[0m\u001b[0;34m(\u001b[0m\u001b[0mvh_e\u001b[0m\u001b[0;34m)\u001b[0m\u001b[0;34m\u001b[0m\u001b[0;34m\u001b[0m\u001b[0m\n\u001b[0m\u001b[1;32m      5\u001b[0m \u001b[0;34m\u001b[0m\u001b[0m\n\u001b[1;32m      6\u001b[0m     \u001b[0mvh_a\u001b[0m \u001b[0;34m=\u001b[0m \u001b[0mnp\u001b[0m\u001b[0;34m.\u001b[0m\u001b[0mlinspace\u001b[0m\u001b[0;34m(\u001b[0m\u001b[0;36m0\u001b[0m\u001b[0;34m,\u001b[0m \u001b[0;36m2\u001b[0m\u001b[0;34m,\u001b[0m \u001b[0;36m257\u001b[0m\u001b[0;34m)\u001b[0m\u001b[0;34m\u001b[0m\u001b[0;34m\u001b[0m\u001b[0m\n",
      "\u001b[0;31mNameError\u001b[0m: name 'impact_exact' is not defined"
     ]
    }
   ],
   "source": [
    "plot_dureechute(1.e-1)"
   ]
  },
  {
   "cell_type": "code",
   "execution_count": null,
   "metadata": {},
   "outputs": [],
   "source": []
  }
 ],
 "metadata": {
  "kernelspec": {
   "display_name": "Python 3",
   "language": "python",
   "name": "python3"
  },
  "language_info": {
   "codemirror_mode": {
    "name": "ipython",
    "version": 3
   },
   "file_extension": ".py",
   "mimetype": "text/x-python",
   "name": "python",
   "nbconvert_exporter": "python",
   "pygments_lexer": "ipython3",
   "version": "3.7.3"
  }
 },
 "nbformat": 4,
 "nbformat_minor": 2
}
